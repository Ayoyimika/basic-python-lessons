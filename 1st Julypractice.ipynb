{
 "cells": [
  {
   "cell_type": "code",
   "execution_count": 2,
   "metadata": {},
   "outputs": [
    {
     "name": "stdout",
     "output_type": "stream",
     "text": [
      "Hello Victoria\n",
      "Hello Ayomide\n",
      "Hello Omma\n"
     ]
    }
   ],
   "source": [
    "#Here's a new class activity  written on the 7th of July 2020 when our light was restored 3minutes ago.\n",
    "\n",
    "#Return values\n",
    "def greet():\n",
    "    return \"Hello\"\n",
    "print (greet(), \"Victoria\")\n",
    "print (greet(), \"Ayomide\")\n",
    "print (greet(), \"Omma\")"
   ]
  },
  {
   "cell_type": "code",
   "execution_count": 9,
   "metadata": {},
   "outputs": [
    {
     "name": "stdout",
     "output_type": "stream",
     "text": [
      "Bonjour and how are you doing Victoria?\n",
      "Hola and how are you doing omma?\n",
      "Hello and how are you doing Ayomide?\n"
     ]
    }
   ],
   "source": [
    "def greet(lang):\n",
    "    if lang == \"fr\":\n",
    "        return \"Bonjour\"\n",
    "    elif lang == \"sp\":\n",
    "        return \"Hola\"\n",
    "    else:\n",
    "        return \"Hello\"\n",
    "    \n",
    "print (greet('fr'), \"and how are you doing Victoria?\")\n",
    "print (greet('sp'), \"and how are you doing omma?\")\n",
    "print (greet('th'), \"and how are you doing Ayomide?\")"
   ]
  },
  {
   "cell_type": "code",
   "execution_count": 12,
   "metadata": {},
   "outputs": [
    {
     "name": "stdout",
     "output_type": "stream",
     "text": [
      "Medium\n"
     ]
    }
   ],
   "source": [
    "x = 6\n",
    "\n",
    "if x <2:\n",
    "    print ('Small')\n",
    "elif x < 10:\n",
    "    print ('Medium')\n",
    "else:\n",
    "    print ('All done')"
   ]
  },
  {
   "cell_type": "code",
   "execution_count": 24,
   "metadata": {},
   "outputs": [
    {
     "name": "stdout",
     "output_type": "stream",
     "text": [
      " Read Think and grow rich: A black choice by Napoleon Hills\n"
     ]
    }
   ],
   "source": [
    "x = 200000000\n",
    "\n",
    "if x <20000:\n",
    "    print ('After recession comes progression')\n",
    "elif x < 10000:\n",
    "    print ('Learn to utilize the season you are in')\n",
    "elif x < 200000:\n",
    "    print ('Protect your value and garden')\n",
    "elif x < 400000:\n",
    "    print ('Large returns')\n",
    "elif x < 1000000:\n",
    "    print ('After progressionn comes recession')\n",
    "else:\n",
    "    print (' Read Think and grow rich: A black choice by Napoleon Hills')"
   ]
  },
  {
   "cell_type": "code",
   "execution_count": 25,
   "metadata": {},
   "outputs": [
    {
     "name": "stdout",
     "output_type": "stream",
     "text": [
      "Watch your sugar intake , Victoria.\n",
      "What aaaare you eating? Junk, What??? , Victoria.\n"
     ]
    }
   ],
   "source": [
    "def food(eat):\n",
    "    if eat == \"carbs\":\n",
    "        return \"Watch your sugar intake\"\n",
    "    elif eat == \"protein\":\n",
    "        return \"Luck repairing your tissue\"\n",
    "    elif eat == \"water\":\n",
    "        return \"Hello\"\n",
    "    else:\n",
    "        return \"What aaaare you eating? Junk, What???\"\n",
    "    \n",
    "print (food('carbs'), \", Victoria.\")\n",
    "print (food('pizza'), \", Victoria.\")"
   ]
  },
  {
   "cell_type": "code",
   "execution_count": 31,
   "metadata": {},
   "outputs": [
    {
     "name": "stdout",
     "output_type": "stream",
     "text": [
      "5\n",
      "Blast off\n",
      "4\n",
      "Blast off\n",
      "3\n",
      "Blast off\n",
      "2\n",
      "Blast off\n",
      "1\n",
      "Blast off\n"
     ]
    }
   ],
   "source": [
    "for i in [5,4,3,2,1]:\n",
    "    print (i)\n",
    "    print ('Blast off')"
   ]
  },
  {
   "cell_type": "code",
   "execution_count": 37,
   "metadata": {},
   "outputs": [
    {
     "name": "stdout",
     "output_type": "stream",
     "text": [
      "Its nice having you as my friend, Ayomide\n",
      "DONE!\n",
      "Its nice having you as my friend, Josiah\n",
      "DONE!\n",
      "Its nice having you as my friend, Kscholar\n",
      "DONE!\n",
      "Its nice having you as my friend, Badejo Peace\n",
      "DONE!\n",
      "Its nice having you as my friend, Mosope\n",
      "DONE!\n",
      "Its nice having you as my friend, Adeola\n",
      "DONE!\n",
      "Its nice having you as my friend, lot more\n",
      "DONE!\n"
     ]
    }
   ],
   "source": [
    "Friends = [\"Ayomide\", \"Josiah\", \"Kscholar\", 'Badejo Peace', 'Mosope', 'Adeola', 'lot more']\n",
    "for friend in Friends:\n",
    "    print ('Its nice having you as my friend,' , friend)\n",
    "    print ('DONE!')"
   ]
  },
  {
   "cell_type": "code",
   "execution_count": 40,
   "metadata": {},
   "outputs": [
    {
     "name": "stdout",
     "output_type": "stream",
     "text": [
      "Before\n",
      "9\n",
      "After\n",
      "12\n",
      "After\n",
      "41\n",
      "After\n",
      "13\n",
      "After\n",
      "3\n",
      "After\n",
      "15\n",
      "After\n"
     ]
    }
   ],
   "source": [
    "print ('Before')\n",
    "for thing in [9, 12, 41, 13, 3, 15]:\n",
    "    print (thing)\n",
    "    print ('After')"
   ]
  },
  {
   "cell_type": "code",
   "execution_count": null,
   "metadata": {},
   "outputs": [],
   "source": []
  }
 ],
 "metadata": {
  "kernelspec": {
   "display_name": "Python 3",
   "language": "python",
   "name": "python3"
  },
  "language_info": {
   "codemirror_mode": {
    "name": "ipython",
    "version": 3
   },
   "file_extension": ".py",
   "mimetype": "text/x-python",
   "name": "python",
   "nbconvert_exporter": "python",
   "pygments_lexer": "ipython3",
   "version": "3.7.6"
  }
 },
 "nbformat": 4,
 "nbformat_minor": 4
}
