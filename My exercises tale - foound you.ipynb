{
 "cells": [
  {
   "cell_type": "code",
   "execution_count": 2,
   "metadata": {},
   "outputs": [],
   "source": [
    "#Tuples practice\n",
    "\n",
    "people = ()"
   ]
  },
  {
   "cell_type": "code",
   "execution_count": 16,
   "metadata": {},
   "outputs": [
    {
     "name": "stdout",
     "output_type": "stream",
     "text": [
      "('Bob', 'Sarah', 'Victoria')\n"
     ]
    }
   ],
   "source": [
    "friends = ('Bob', 'Mary', 'Ayomide')\n",
    "people_update = list(friends)\n",
    "people_update [1] = 'Sarah'\n",
    "people_update [2] = 'Victoria'\n",
    "friends = tuple(people_update)\n",
    "print (friends)"
   ]
  },
  {
   "cell_type": "code",
   "execution_count": 14,
   "metadata": {},
   "outputs": [
    {
     "name": "stdout",
     "output_type": "stream",
     "text": [
      "Sarah\n"
     ]
    }
   ],
   "source": [
    "print (people[1])\n"
   ]
  },
  {
   "cell_type": "code",
   "execution_count": 17,
   "metadata": {},
   "outputs": [
    {
     "name": "stdout",
     "output_type": "stream",
     "text": [
      "There is no Mary there! \n"
     ]
    }
   ],
   "source": [
    "friends = ('Bob', 'Sarah', 'Victoria')\n",
    "if 'Mary' in friends:\n",
    "    print ('Mary exists!')\n",
    "else:\n",
    "    print ('There is no Mary there! ')"
   ]
  },
  {
   "cell_type": "code",
   "execution_count": 19,
   "metadata": {},
   "outputs": [],
   "source": [
    "#Sets\n",
    "#Sets\n",
    "#Sets\n",
    "\n",
    "friends = set()"
   ]
  },
  {
   "cell_type": "code",
   "execution_count": 37,
   "metadata": {},
   "outputs": [
    {
     "data": {
      "text/plain": [
       "{'Bob', 'Doris', 'Mary', 'Sarah', 'Victoria'}"
      ]
     },
     "execution_count": 37,
     "metadata": {},
     "output_type": "execute_result"
    }
   ],
   "source": [
    "friends = {'Mary', 'Bob', 'Sarah', 'Victoria'}\n",
    "friends.add('Doris')\n",
    "friends"
   ]
  },
  {
   "cell_type": "code",
   "execution_count": 39,
   "metadata": {},
   "outputs": [
    {
     "name": "stdout",
     "output_type": "stream",
     "text": [
      "{'Patrice', 'Doris', 'Bob', 'Robert', 'Steve', 'Sarah', 'Peace', 'Mary', 'Victoria'}\n"
     ]
    }
   ],
   "source": [
    "friends.update ({'Patrice', 'Steve', 'Robert', 'Peace'})\n",
    "friends.add('Patrice') #will not add patrice twice\n",
    "print(friends)"
   ]
  },
  {
   "cell_type": "code",
   "execution_count": 40,
   "metadata": {},
   "outputs": [
    {
     "name": "stdout",
     "output_type": "stream",
     "text": [
      "{'Patrice', 'Doris', 'Bob', 'Robert', 'Steve', 'Sarah', 'Peace', 'Mary'}\n"
     ]
    }
   ],
   "source": [
    "friends.remove('Victoria')\n",
    "print(friends)"
   ]
  },
  {
   "cell_type": "code",
   "execution_count": 43,
   "metadata": {},
   "outputs": [
    {
     "name": "stdout",
     "output_type": "stream",
     "text": [
      "set()\n"
     ]
    }
   ],
   "source": [
    "friends.clear()\n",
    "print(friends)"
   ]
  },
  {
   "cell_type": "code",
   "execution_count": 48,
   "metadata": {},
   "outputs": [
    {
     "name": "stdout",
     "output_type": "stream",
     "text": [
      "No sule among my friends\n"
     ]
    }
   ],
   "source": [
    "friends = {'Patrice', 'Doris', 'Bob', 'Robert', 'Steve', 'Sarah', 'Peace', 'Mary', 'Victoria'}\n",
    "\n",
    "if 'Sule'in friends:\n",
    "    print('We have a sule here!')\n",
    "else:\n",
    "    print(\"No sule among my friends\")"
   ]
  },
  {
   "cell_type": "code",
   "execution_count": 49,
   "metadata": {},
   "outputs": [],
   "source": [
    "#Dictionaries\n",
    "\n",
    "\n",
    "#Dictionaries"
   ]
  },
  {
   "cell_type": "code",
   "execution_count": 50,
   "metadata": {},
   "outputs": [],
   "source": [
    "housemates = {}"
   ]
  },
  {
   "cell_type": "code",
   "execution_count": 68,
   "metadata": {},
   "outputs": [
    {
     "name": "stdout",
     "output_type": "stream",
     "text": [
      "{'Patrice': 50, 'Steve': 60}\n"
     ]
    }
   ],
   "source": [
    "housemates = {'Patrice':50, 'Steve':60}\n",
    "housemates['hous']:90\n",
    "print(housemates)"
   ]
  },
  {
   "cell_type": "code",
   "execution_count": 69,
   "metadata": {},
   "outputs": [
    {
     "name": "stdout",
     "output_type": "stream",
     "text": [
      "{'Patrice': 50, 'Steve': 60, 'hous': 90, 'Andrew': 20}\n"
     ]
    }
   ],
   "source": [
    "housemates['hous']=90\n",
    "housemates['Andrew']= 20\n",
    "print(housemates)"
   ]
  },
  {
   "cell_type": "code",
   "execution_count": 70,
   "metadata": {},
   "outputs": [
    {
     "name": "stdout",
     "output_type": "stream",
     "text": [
      "{'Patrice': 55, 'Steve': 60, 'hous': 90, 'Andrew': 20}\n"
     ]
    }
   ],
   "source": [
    "housemates['Patrice']= 55    #Patrice is now 55\n",
    "print(housemates)"
   ]
  },
  {
   "cell_type": "code",
   "execution_count": 73,
   "metadata": {},
   "outputs": [
    {
     "name": "stdout",
     "output_type": "stream",
     "text": [
      "{}\n"
     ]
    }
   ],
   "source": [
    "housemates.clear()\n",
    "print(housemates)"
   ]
  },
  {
   "cell_type": "code",
   "execution_count": 77,
   "metadata": {},
   "outputs": [
    {
     "name": "stdout",
     "output_type": "stream",
     "text": [
      "60\n"
     ]
    }
   ],
   "source": [
    "housemates = {'Patrice': 55, 'Steve': 60, 'hous': 90, 'Andrew': 20}\n",
    "Steve_age =housemates['Steve']\n",
    "print (Steve_age)"
   ]
  },
  {
   "cell_type": "code",
   "execution_count": 78,
   "metadata": {},
   "outputs": [
    {
     "name": "stdout",
     "output_type": "stream",
     "text": [
      "Steve dey!\n"
     ]
    }
   ],
   "source": [
    "if 'Steve' in housemates:\n",
    "    print ('Steve dey!')\n",
    "else:\n",
    "    print ('Steve no dey!')"
   ]
  }
 ],
 "metadata": {
  "kernelspec": {
   "display_name": "Python 3",
   "language": "python",
   "name": "python3"
  },
  "language_info": {
   "codemirror_mode": {
    "name": "ipython",
    "version": 3
   },
   "file_extension": ".py",
   "mimetype": "text/x-python",
   "name": "python",
   "nbconvert_exporter": "python",
   "pygments_lexer": "ipython3",
   "version": "3.7.6"
  }
 },
 "nbformat": 4,
 "nbformat_minor": 4
}
